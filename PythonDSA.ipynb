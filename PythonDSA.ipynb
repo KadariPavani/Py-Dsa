{
  "nbformat": 4,
  "nbformat_minor": 0,
  "metadata": {
    "colab": {
      "provenance": [],
      "authorship_tag": "ABX9TyOeHFIaYgKjBb/YnsIvcDed",
      "include_colab_link": true
    },
    "kernelspec": {
      "name": "python3",
      "display_name": "Python 3"
    },
    "language_info": {
      "name": "python"
    }
  },
  "cells": [
    {
      "cell_type": "markdown",
      "metadata": {
        "id": "view-in-github",
        "colab_type": "text"
      },
      "source": [
        "<a href=\"https://colab.research.google.com/github/KadariPavani/Py-Dsa/blob/main/PythonDSA.ipynb\" target=\"_parent\"><img src=\"https://colab.research.google.com/assets/colab-badge.svg\" alt=\"Open In Colab\"/></a>"
      ]
    },
    {
      "cell_type": "markdown",
      "source": [
        "DAY-01"
      ],
      "metadata": {
        "id": "_uLRWqCgqLnE"
      }
    },
    {
      "cell_type": "code",
      "execution_count": null,
      "metadata": {
        "colab": {
          "base_uri": "https://localhost:8080/"
        },
        "id": "hvc2JKqRZvrc",
        "outputId": "6fc70610-369c-4b16-f1b3-4b2cb9721678"
      },
      "outputs": [
        {
          "name": "stdout",
          "output_type": "stream",
          "text": [
            "1234567\n"
          ]
        },
        {
          "output_type": "execute_result",
          "data": {
            "text/plain": [
              "7"
            ]
          },
          "metadata": {},
          "execution_count": 12
        }
      ],
      "source": [
        "#counting no.of digits in a number\n",
        "def count_digits(n):\n",
        "  num=n\n",
        "  count=0\n",
        "  while num >0:\n",
        "    count+=1\n",
        "    num=num//10\n",
        "  return count\n",
        "\n",
        "n=int(input())\n",
        "count_digits(n)\n",
        "\n",
        "\n",
        "#time complexity : O(log10(N))\n",
        "#space complexity : O(1)"
      ]
    },
    {
      "cell_type": "code",
      "source": [
        "#We can also use this by applying the logarthimic by simply add +1 to the result of the logarthimic\n",
        "\n",
        "from math import *\n",
        "def count_dig(n):\n",
        "  return int(log10(n))+1\n",
        "\n",
        "count_dig(1234567)"
      ],
      "metadata": {
        "colab": {
          "base_uri": "https://localhost:8080/"
        },
        "id": "fa65azk9qF3f",
        "outputId": "d50df145-c893-4284-94a2-99287fcfb12b"
      },
      "execution_count": null,
      "outputs": [
        {
          "output_type": "execute_result",
          "data": {
            "text/plain": [
              "7"
            ]
          },
          "metadata": {},
          "execution_count": 13
        }
      ]
    },
    {
      "cell_type": "markdown",
      "source": [
        "Day-02\n"
      ],
      "metadata": {
        "id": "QuDYBd3QqwgR"
      }
    },
    {
      "cell_type": "code",
      "source": [
        "#Extracction of all digits in a number\n",
        "def eld(n):\n",
        "  num =n\n",
        "  while num>0:\n",
        "    lastdg = num%10\n",
        "    print(lastdg, end=\"\")\n",
        "    num =num//10\n",
        "\n",
        "eld(1234567)"
      ],
      "metadata": {
        "colab": {
          "base_uri": "https://localhost:8080/"
        },
        "id": "zwVec210rSL3",
        "outputId": "1bd106ff-cb28-4e4a-c436-6ec6e0b08d18"
      },
      "execution_count": null,
      "outputs": [
        {
          "output_type": "stream",
          "name": "stdout",
          "text": [
            "7654321"
          ]
        }
      ]
    },
    {
      "cell_type": "code",
      "source": [
        "#Checking the Palindrome for a number\n",
        "\n",
        "n =1221\n",
        "num =n\n",
        "result =0\n",
        "while num>0:\n",
        "  ld =num%10\n",
        "  result = (result*10)+ld\n",
        "  num =num//10\n",
        "print(n==result)\n",
        "\n",
        "#TC -> O(log10(N)) N=number, not digits\n",
        "#SC -> depend on the number then it would be O(1)"
      ],
      "metadata": {
        "colab": {
          "base_uri": "https://localhost:8080/"
        },
        "id": "t2X9925cZPns",
        "outputId": "687037da-7a2c-4ce5-90d1-87ed7113cd97"
      },
      "execution_count": null,
      "outputs": [
        {
          "output_type": "stream",
          "name": "stdout",
          "text": [
            "True\n"
          ]
        }
      ]
    },
    {
      "cell_type": "code",
      "source": [
        "#ARMSTRONG NUMBER\n",
        "\n",
        "n =153\n",
        "num =n\n",
        "result =0\n",
        "nod =len(str(n))\n",
        "while num>0:\n",
        "  last_dig =num%10\n",
        "  result=(last_dig**nod)+result\n",
        "  num =num//10\n",
        "print(n==result)\n",
        "\n",
        "#TC -> O(log10(N)) N=number, not digits\n",
        "#SC -> depend on the number then it would be O(1)"
      ],
      "metadata": {
        "colab": {
          "base_uri": "https://localhost:8080/"
        },
        "id": "oGGVuZy8c9IC",
        "outputId": "ebeb3259-42db-4819-a27e-a073a278aaff"
      },
      "execution_count": null,
      "outputs": [
        {
          "output_type": "stream",
          "name": "stdout",
          "text": [
            "True\n"
          ]
        }
      ]
    }
  ]
}