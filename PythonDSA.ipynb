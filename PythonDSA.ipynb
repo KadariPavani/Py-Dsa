{
  "nbformat": 4,
  "nbformat_minor": 0,
  "metadata": {
    "colab": {
      "provenance": [],
      "authorship_tag": "ABX9TyPVtxjVsVf7I+i/SovNSRVh",
      "include_colab_link": true
    },
    "kernelspec": {
      "name": "python3",
      "display_name": "Python 3"
    },
    "language_info": {
      "name": "python"
    }
  },
  "cells": [
    {
      "cell_type": "markdown",
      "metadata": {
        "id": "view-in-github",
        "colab_type": "text"
      },
      "source": [
        "<a href=\"https://colab.research.google.com/github/KadariPavani/Py-Dsa/blob/main/PythonDSA.ipynb\" target=\"_parent\"><img src=\"https://colab.research.google.com/assets/colab-badge.svg\" alt=\"Open In Colab\"/></a>"
      ]
    },
    {
      "cell_type": "markdown",
      "source": [
        "DAY-01"
      ],
      "metadata": {
        "id": "_uLRWqCgqLnE"
      }
    },
    {
      "cell_type": "code",
      "execution_count": 19,
      "metadata": {
        "colab": {
          "base_uri": "https://localhost:8080/"
        },
        "id": "hvc2JKqRZvrc",
        "outputId": "1697c26c-7881-4a94-9768-b93a9c9264f2"
      },
      "outputs": [
        {
          "name": "stdout",
          "output_type": "stream",
          "text": [
            "12345\n"
          ]
        },
        {
          "output_type": "execute_result",
          "data": {
            "text/plain": [
              "5"
            ]
          },
          "metadata": {},
          "execution_count": 19
        }
      ],
      "source": [
        "#counting no.of digits in a number\n",
        "def count_digits(n):\n",
        "  num=n\n",
        "  count=0\n",
        "  while num >0:\n",
        "    count+=1\n",
        "    num=num//10\n",
        "  return count\n",
        "\n",
        "n=int(input())\n",
        "count_digits(n)\n",
        "\n",
        "\n",
        "#time complexity : O(log10(N))\n",
        "#space complexity : O(1)"
      ]
    },
    {
      "cell_type": "code",
      "source": [
        "#We can also use this by applying the logarthimic by simply add +1 to the result of the logarthimic\n",
        "\n",
        "from math import *\n",
        "def count_dig(n):\n",
        "  return int(log10(n))+1\n",
        "\n",
        "count_dig(1234567)"
      ],
      "metadata": {
        "colab": {
          "base_uri": "https://localhost:8080/"
        },
        "id": "fa65azk9qF3f",
        "outputId": "567021a6-d2d4-41a1-9909-ee740f7d542c"
      },
      "execution_count": 20,
      "outputs": [
        {
          "output_type": "execute_result",
          "data": {
            "text/plain": [
              "7"
            ]
          },
          "metadata": {},
          "execution_count": 20
        }
      ]
    },
    {
      "cell_type": "markdown",
      "source": [
        "Day-02\n"
      ],
      "metadata": {
        "id": "QuDYBd3QqwgR"
      }
    },
    {
      "cell_type": "code",
      "source": [
        "#Extracction of all digits in a number\n",
        "def eld(n):\n",
        "  num =n\n",
        "  while num>0:\n",
        "    lastdg = num%10\n",
        "    print(lastdg, end=\"\")\n",
        "    num =num//10\n",
        "\n",
        "eld(1234567)"
      ],
      "metadata": {
        "colab": {
          "base_uri": "https://localhost:8080/"
        },
        "id": "zwVec210rSL3",
        "outputId": "c1de4622-a790-4790-a927-32c56e58f30a"
      },
      "execution_count": 21,
      "outputs": [
        {
          "output_type": "stream",
          "name": "stdout",
          "text": [
            "7654321"
          ]
        }
      ]
    },
    {
      "cell_type": "code",
      "source": [
        "#Checking the Palindrome for a number\n",
        "\n",
        "n =1221\n",
        "num =n\n",
        "result =0\n",
        "while num>0:\n",
        "  ld =num%10\n",
        "  result = (result*10)+ld\n",
        "  num =num//10\n",
        "print(n==result)\n",
        "\n",
        "#TC -> O(log10(N)) N=number, not digits\n",
        "#SC -> depend on the number then it would be O(1)"
      ],
      "metadata": {
        "colab": {
          "base_uri": "https://localhost:8080/"
        },
        "id": "t2X9925cZPns",
        "outputId": "4e17e1ba-1723-462e-ba75-7f4642df836c"
      },
      "execution_count": 22,
      "outputs": [
        {
          "output_type": "stream",
          "name": "stdout",
          "text": [
            "True\n"
          ]
        }
      ]
    },
    {
      "cell_type": "code",
      "source": [
        "#ARMSTRONG NUMBER\n",
        "\n",
        "n =153\n",
        "num =n\n",
        "result =0\n",
        "nod =len(str(n))\n",
        "while num>0:\n",
        "  last_dig =num%10\n",
        "  result=(last_dig**nod)+result\n",
        "  num =num//10\n",
        "print(n==result)\n",
        "\n",
        "#TC -> O(log10(N)) N=number, not digits\n",
        "#SC -> depend on the number then it would be O(1)"
      ],
      "metadata": {
        "colab": {
          "base_uri": "https://localhost:8080/"
        },
        "id": "oGGVuZy8c9IC",
        "outputId": "b755c906-983e-4219-adf4-69114f916202"
      },
      "execution_count": 23,
      "outputs": [
        {
          "output_type": "stream",
          "name": "stdout",
          "text": [
            "True\n"
          ]
        }
      ]
    },
    {
      "cell_type": "code",
      "source": [
        "# Prime factors of a number\n",
        "#Bruteforce way\n",
        "\n",
        "def pf_bf(n):\n",
        "  fac=[]\n",
        "  for i in range(1, n+1):\n",
        "    if n%i==0:\n",
        "      fac.append(i)\n",
        "  return fac\n",
        "\n",
        "# pf_bf(12)\n",
        "#TC -> O(N) N=number, not digits\n",
        "#SC -> O(K) , k would be the number of factors\n",
        "\n",
        "\n",
        "#Moderate Approach\n",
        "def pf_ma(n):\n",
        "  fac=[]\n",
        "  for i in range(1, (n//2)+1):\n",
        "    if n%i==0:\n",
        "      fac.append(i)\n",
        "  fac.append(n)\n",
        "  return fac\n",
        "\n",
        "# pf_ma(12)\n",
        "#TC -> O(N) N=number, not digits\n",
        "#SC -> O(K) , k would be the number of factors\n",
        "\n",
        "#optimize way\n",
        "\n",
        "from math import sqrt\n",
        "def ot_pf(n):\n",
        "  result=[]\n",
        "  for i in range(1, int(sqrt(n))+1):\n",
        "    if n%i ==0:\n",
        "      result.append(i)\n",
        "      if n//i !=i:\n",
        "       result.append(n//i)\n",
        "  return result\n",
        "ot_pf(12)\n",
        "#TC -> O(sqrt(N)+O(N(logN))) N=number, not digits\n",
        "#SC -> O(K) , k would be the number of factors"
      ],
      "metadata": {
        "colab": {
          "base_uri": "https://localhost:8080/"
        },
        "id": "8QQXpyNPnlZi",
        "outputId": "1a75018f-90da-49d0-f1e1-05cda2fa4b3f"
      },
      "execution_count": 24,
      "outputs": [
        {
          "output_type": "execute_result",
          "data": {
            "text/plain": [
              "[1, 12, 2, 6, 3, 4]"
            ]
          },
          "metadata": {},
          "execution_count": 24
        }
      ]
    }
  ]
}