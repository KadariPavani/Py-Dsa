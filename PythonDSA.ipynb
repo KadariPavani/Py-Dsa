{
  "nbformat": 4,
  "nbformat_minor": 0,
  "metadata": {
    "colab": {
      "provenance": [],
      "authorship_tag": "ABX9TyPv5FlUST26hhe0PrmIlSNj",
      "include_colab_link": true
    },
    "kernelspec": {
      "name": "python3",
      "display_name": "Python 3"
    },
    "language_info": {
      "name": "python"
    }
  },
  "cells": [
    {
      "cell_type": "markdown",
      "metadata": {
        "id": "view-in-github",
        "colab_type": "text"
      },
      "source": [
        "<a href=\"https://colab.research.google.com/github/KadariPavani/Py-Dsa/blob/main/PythonDSA.ipynb\" target=\"_parent\"><img src=\"https://colab.research.google.com/assets/colab-badge.svg\" alt=\"Open In Colab\"/></a>"
      ]
    },
    {
      "cell_type": "markdown",
      "source": [
        "DAY-01"
      ],
      "metadata": {
        "id": "_uLRWqCgqLnE"
      }
    },
    {
      "cell_type": "code",
      "execution_count": 12,
      "metadata": {
        "colab": {
          "base_uri": "https://localhost:8080/"
        },
        "id": "hvc2JKqRZvrc",
        "outputId": "6fc70610-369c-4b16-f1b3-4b2cb9721678"
      },
      "outputs": [
        {
          "name": "stdout",
          "output_type": "stream",
          "text": [
            "1234567\n"
          ]
        },
        {
          "output_type": "execute_result",
          "data": {
            "text/plain": [
              "7"
            ]
          },
          "metadata": {},
          "execution_count": 12
        }
      ],
      "source": [
        "#counting no.of digits in a number\n",
        "def count_digits(n):\n",
        "  num=n\n",
        "  count=0\n",
        "  while num >0:\n",
        "    count+=1\n",
        "    num=num//10\n",
        "  return count\n",
        "\n",
        "n=int(input())\n",
        "count_digits(n)\n",
        "\n",
        "\n",
        "#time complexity : O(log10(N))\n",
        "#space complexity : O(1)"
      ]
    },
    {
      "cell_type": "code",
      "source": [
        "#We can also use this by applying the logarthimic by simply add +1 to the result of the logarthimic\n",
        "\n",
        "from math import *\n",
        "def count_dig(n):\n",
        "  return int(log10(n))+1\n",
        "\n",
        "count_dig(1234567)"
      ],
      "metadata": {
        "colab": {
          "base_uri": "https://localhost:8080/"
        },
        "id": "fa65azk9qF3f",
        "outputId": "d50df145-c893-4284-94a2-99287fcfb12b"
      },
      "execution_count": 13,
      "outputs": [
        {
          "output_type": "execute_result",
          "data": {
            "text/plain": [
              "7"
            ]
          },
          "metadata": {},
          "execution_count": 13
        }
      ]
    },
    {
      "cell_type": "markdown",
      "source": [
        "Day-02\n"
      ],
      "metadata": {
        "id": "QuDYBd3QqwgR"
      }
    },
    {
      "cell_type": "code",
      "source": [
        "#Extracction of all digits in a number\n",
        "def eld(n):\n",
        "  num =n\n",
        "  while num>0:\n",
        "    lastdg = num%10\n",
        "    print(lastdg)\n",
        "    num =num//10\n",
        "\n",
        "eld(1234567)"
      ],
      "metadata": {
        "colab": {
          "base_uri": "https://localhost:8080/"
        },
        "id": "zwVec210rSL3",
        "outputId": "b8467720-4b77-42e4-defe-5cefc675b6ae"
      },
      "execution_count": null,
      "outputs": [
        {
          "output_type": "stream",
          "name": "stdout",
          "text": [
            "7\n",
            "6\n",
            "5\n",
            "4\n",
            "3\n",
            "2\n",
            "1\n"
          ]
        }
      ]
    }
  ]
}